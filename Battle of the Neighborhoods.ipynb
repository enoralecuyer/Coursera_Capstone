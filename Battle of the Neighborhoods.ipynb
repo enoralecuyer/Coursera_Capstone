{
    "nbformat_minor": 1, 
    "cells": [
        {
            "source": "__Battle of Neighborhoods - Part 1__\n\n__1. A description of the problem and a discussion of the background__\n\nThis project's aim is to define the best area to work out between Playa Vista, CA, and Playa del Rey, CA. I intend to analysis the number of gyms, yoga studio and parks.\n\n__2.A description of the data and how it will be used to solve the problem__\n\nI am planning on using FourSquare to aggregate date and focus on the number of options to work out.\n\n***\n\n__Battle of Neighborhoods - Part 2__\n\n__3. Introduction where you discuss the business problem and who would be interested in this project.__\n\nWhich city is best to visit to work out? This problem is useful for future resident or for work out afficionados.\n\n__4. Data where you describe the data that will be used to solve the problem and the source of the data.__\n\nData aggregated from FourSquare\n\n__5. Methodology section which represents the main component of the report where you discuss and describe any exploratory data analysis that you did, any inferential statistical testing that you performed, and what machine learnings were used and why.__\n\nUse of Histograms, Maps, and pd.values_count\n\n__6. Results section where you discuss the results.__\n\nAccording to the data, the best city to work out is Playa Vista, CA\n\n__7. Discussion section where you discuss any observations you noted and any recommendations you can make based on the results.__\n\nPlaya Vista has a significant number of places to work out, but Playa del Rey has more natural parks and has the beach. \n\n__8. Conclusion section where you conclude the report.__\n\nIn conclusion, the best city to work out is Playa Vista, CA.", 
            "cell_type": "markdown", 
            "metadata": {
                "collapsed": true
            }
        }, 
        {
            "source": "import requests # library to handle requests\nimport pandas as pd # library for data analsysis\nimport numpy as np # library to handle data in a vectorized manner\nimport random # library for random number generation\nfrom matplotlib import pyplot as plt\n!pip install utm\n\n\n!pip install geopandas\nimport geopandas as gpd\nfrom geopandas import GeoSeries, GeoDataFrame\nfrom shapely.geometry import Point\n!conda install -c conda-forge geopy --yes \nfrom geopy.geocoders import Nominatim # module to convert an address into latitude and longitude values\nfrom pyproj import Proj\n# libraries for displaying images\nfrom IPython.display import Image \nfrom IPython.core.display import HTML \n    \n# tranforming json file into a pandas dataframe library\nfrom pandas.io.json import json_normalize\n\n!conda install -c conda-forge folium=0.5.0 --yes\nimport folium # plotting library\nimport pyproj\nfrom pyproj import Proj\nprint('Folium installed')\nprint('Libraries imported.')", 
            "cell_type": "code", 
            "metadata": {}, 
            "outputs": [
                {
                    "output_type": "stream", 
                    "name": "stdout", 
                    "text": "Collecting utm\n  Downloading https://files.pythonhosted.org/packages/92/d9/8bdb3d477dcaf75e1a1021772892f729a055787a08aa472582c5d35a0b36/utm-0.4.2.tar.gz\nBuilding wheels for collected packages: utm\n  Running setup.py bdist_wheel for utm ... \u001b[?25ldone\n\u001b[?25h  Stored in directory: /home/dsxuser/.cache/pip/wheels/1d/2d/5a/4c6320941f607ffefd353e1bb715e33a250a59f835cf0fbdd8\nSuccessfully built utm\nInstalling collected packages: utm\nSuccessfully installed utm-0.4.2\nCollecting geopandas\n  Downloading https://files.pythonhosted.org/packages/f0/5d/916b7268ef551fa9647ce12220e9a68006374f1ce5b0ddaf1cd0df2880b7/geopandas-0.4.1-py2.py3-none-any.whl (922kB)\n\u001b[K    100% |\u2588\u2588\u2588\u2588\u2588\u2588\u2588\u2588\u2588\u2588\u2588\u2588\u2588\u2588\u2588\u2588\u2588\u2588\u2588\u2588\u2588\u2588\u2588\u2588\u2588\u2588\u2588\u2588\u2588\u2588\u2588\u2588| 931kB 1.1MB/s eta 0:00:01\n\u001b[?25hCollecting shapely (from geopandas)\n  Downloading https://files.pythonhosted.org/packages/a2/6c/966fa320a88fc685c956af08135855fa84a1589631256abebf73721c26ed/Shapely-1.6.4.post2-cp35-cp35m-manylinux1_x86_64.whl (1.5MB)\n\u001b[K    100% |\u2588\u2588\u2588\u2588\u2588\u2588\u2588\u2588\u2588\u2588\u2588\u2588\u2588\u2588\u2588\u2588\u2588\u2588\u2588\u2588\u2588\u2588\u2588\u2588\u2588\u2588\u2588\u2588\u2588\u2588\u2588\u2588| 1.5MB 658kB/s eta 0:00:01\n\u001b[?25hRequirement not upgraded as not directly required: pandas in /opt/conda/envs/DSX-Python35/lib/python3.5/site-packages (from geopandas)\nCollecting fiona (from geopandas)\n  Downloading https://files.pythonhosted.org/packages/4f/e2/841f27ccf7a00095c251554642025f64c44fbe2a121b2f33a76e9fbff2b2/Fiona-1.8.6-cp35-cp35m-manylinux1_x86_64.whl (17.8MB)\n\u001b[K    100% |\u2588\u2588\u2588\u2588\u2588\u2588\u2588\u2588\u2588\u2588\u2588\u2588\u2588\u2588\u2588\u2588\u2588\u2588\u2588\u2588\u2588\u2588\u2588\u2588\u2588\u2588\u2588\u2588\u2588\u2588\u2588\u2588| 17.9MB 55kB/s  eta 0:00:01\n\u001b[?25hCollecting pyproj (from geopandas)\n  Downloading https://files.pythonhosted.org/packages/94/a6/a8d67fe3c6097ab390da706049e27ab50bf42fc063afa49a0b484ae2203a/pyproj-2.1.3-cp35-cp35m-manylinux1_x86_64.whl (10.8MB)\n\u001b[K    100% |\u2588\u2588\u2588\u2588\u2588\u2588\u2588\u2588\u2588\u2588\u2588\u2588\u2588\u2588\u2588\u2588\u2588\u2588\u2588\u2588\u2588\u2588\u2588\u2588\u2588\u2588\u2588\u2588\u2588\u2588\u2588\u2588| 10.8MB 94kB/s  eta 0:00:01\n\u001b[?25hRequirement not upgraded as not directly required: python-dateutil>=2 in /opt/conda/envs/DSX-Python35/lib/python3.5/site-packages (from pandas->geopandas)\nRequirement not upgraded as not directly required: pytz>=2011k in /opt/conda/envs/DSX-Python35/lib/python3.5/site-packages (from pandas->geopandas)\nRequirement not upgraded as not directly required: numpy>=1.9.0 in /opt/conda/envs/DSX-Python35/lib/python3.5/site-packages (from pandas->geopandas)\nRequirement not upgraded as not directly required: click<8,>=4.0 in /opt/conda/envs/DSX-Python35/lib/python3.5/site-packages (from fiona->geopandas)\nCollecting click-plugins>=1.0 (from fiona->geopandas)\n  Downloading https://files.pythonhosted.org/packages/e9/da/824b92d9942f4e472702488857914bdd50f73021efea15b4cad9aca8ecef/click_plugins-1.1.1-py2.py3-none-any.whl\nCollecting attrs>=17 (from fiona->geopandas)\n  Downloading https://files.pythonhosted.org/packages/23/96/d828354fa2dbdf216eaa7b7de0db692f12c234f7ef888cc14980ef40d1d2/attrs-19.1.0-py2.py3-none-any.whl\nCollecting cligj>=0.5 (from fiona->geopandas)\n  Downloading https://files.pythonhosted.org/packages/e4/be/30a58b4b0733850280d01f8bd132591b4668ed5c7046761098d665ac2174/cligj-0.5.0-py3-none-any.whl\nCollecting munch (from fiona->geopandas)\n  Downloading https://files.pythonhosted.org/packages/68/f4/260ec98ea840757a0da09e0ed8135333d59b8dfebe9752a365b04857660a/munch-2.3.2.tar.gz\nRequirement not upgraded as not directly required: six>=1.7 in /opt/conda/envs/DSX-Python35/lib/python3.5/site-packages (from fiona->geopandas)\nBuilding wheels for collected packages: munch\n  Running setup.py bdist_wheel for munch ... \u001b[?25ldone\n\u001b[?25h  Stored in directory: /home/dsxuser/.cache/pip/wheels/db/bf/bc/06a3e1bfe0ab27d2e720ceb3cff3159398d92644c0cec2c125\nSuccessfully built munch\nInstalling collected packages: shapely, click-plugins, attrs, cligj, munch, fiona, pyproj, geopandas\nSuccessfully installed attrs-19.1.0 click-plugins-1.1.1 cligj-0.5.0 fiona-1.8.6 geopandas-0.4.1 munch-2.3.2 pyproj-2.1.3 shapely-1.6.4.post2\nFetching package metadata .............\nSolving package specifications: .\n\n# All requested packages already installed.\n# packages in environment at /opt/conda/envs/DSX-Python35:\n#\ngeopy                     1.19.0                     py_0    conda-forge\nFetching package metadata .............\nSolving package specifications: .\n\n# All requested packages already installed.\n# packages in environment at /opt/conda/envs/DSX-Python35:\n#\nfolium                    0.5.0                      py_0    conda-forge\nFolium installed\nLibraries imported.\n"
                }
            ], 
            "execution_count": 1
        }, 
        {
            "source": "", 
            "cell_type": "code", 
            "metadata": {}, 
            "outputs": [], 
            "execution_count": null
        }
    ], 
    "metadata": {
        "kernelspec": {
            "display_name": "Python 3.5", 
            "name": "python3", 
            "language": "python"
        }, 
        "language_info": {
            "mimetype": "text/x-python", 
            "nbconvert_exporter": "python", 
            "version": "3.5.5", 
            "name": "python", 
            "file_extension": ".py", 
            "pygments_lexer": "ipython3", 
            "codemirror_mode": {
                "version": 3, 
                "name": "ipython"
            }
        }
    }, 
    "nbformat": 4
}